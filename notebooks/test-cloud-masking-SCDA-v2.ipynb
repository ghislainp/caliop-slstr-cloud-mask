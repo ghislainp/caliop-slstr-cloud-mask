{
 "cells": [
  {
   "cell_type": "code",
   "execution_count": 2,
   "metadata": {},
   "outputs": [],
   "source": [
    "import os\n",
    "from glob import glob\n",
    "\n",
    "import numpy as np\n",
    "import pandas as pd\n",
    "import xarray as xr\n",
    "\n",
    "%matplotlib widget\n",
    "import matplotlib.pyplot as plt\n",
    "\n",
    "from SCDA_v2 import SCDA_v20"
   ]
  },
  {
   "cell_type": "code",
   "execution_count": 3,
   "metadata": {},
   "outputs": [],
   "source": [
    "location = \"greenland\"\n",
    "cloud_df = pd.read_parquet(f\"../data/caliop-slstr-{location}-maxsza80.parquet\")\n",
    "\n",
    "def clean_cloud(df):\n",
    "    return df[df.solar_zenith_angle < 80]\n",
    "\n",
    "cloud_df = clean_cloud(cloud_df)"
   ]
  },
  {
   "cell_type": "code",
   "execution_count": 4,
   "metadata": {},
   "outputs": [],
   "source": [
    "#SCDA_v20(R550, R16, BT37, BT11, BT12)\n",
    "\n",
    "slstr_cloud, ndsi = SCDA_v20(cloud_df['S1'].values, cloud_df['S5'].values, cloud_df['S7'].values, cloud_df['S8'].values, cloud_df['S9'].values)\n"
   ]
  },
  {
   "cell_type": "code",
   "execution_count": 5,
   "metadata": {},
   "outputs": [
    {
     "data": {
      "text/html": [
       "<div>\n",
       "<style scoped>\n",
       "    .dataframe tbody tr th:only-of-type {\n",
       "        vertical-align: middle;\n",
       "    }\n",
       "\n",
       "    .dataframe tbody tr th {\n",
       "        vertical-align: top;\n",
       "    }\n",
       "\n",
       "    .dataframe thead th {\n",
       "        text-align: right;\n",
       "    }\n",
       "</style>\n",
       "<table border=\"1\" class=\"dataframe\">\n",
       "  <thead>\n",
       "    <tr style=\"text-align: right;\">\n",
       "      <th></th>\n",
       "      <th>TPR</th>\n",
       "      <th>FPR</th>\n",
       "      <th>TPR_clear</th>\n",
       "      <th>FPR_clear</th>\n",
       "    </tr>\n",
       "  </thead>\n",
       "  <tbody>\n",
       "    <tr>\n",
       "      <th>0</th>\n",
       "      <td>0.81991</td>\n",
       "      <td>0.132132</td>\n",
       "      <td>0.867868</td>\n",
       "      <td>0.18009</td>\n",
       "    </tr>\n",
       "  </tbody>\n",
       "</table>\n",
       "</div>"
      ],
      "text/plain": [
       "       TPR       FPR  TPR_clear  FPR_clear\n",
       "0  0.81991  0.132132   0.867868    0.18009"
      ]
     },
     "execution_count": 5,
     "metadata": {},
     "output_type": "execute_result"
    }
   ],
   "source": [
    "caliop_cloud = cloud_df['Number_Layers_Found'] > 0            \n",
    "    \n",
    "    \n",
    "good_detected_cloud = np.sum(slstr_cloud & caliop_cloud)\n",
    "wrong_detected_cloud = np.sum(slstr_cloud & ~caliop_cloud)\n",
    "            \n",
    "good_detected_clear = np.sum(~slstr_cloud & ~caliop_cloud)\n",
    "wrong_detected_clear = np.sum(~slstr_cloud & caliop_cloud)\n",
    "            \n",
    "is_cloud = np.sum(caliop_cloud)\n",
    "is_not_cloud = np.sum(~caliop_cloud)\n",
    "    \n",
    "df = pd.DataFrame({'TPR': good_detected_cloud / is_cloud, \n",
    "                     'FPR': wrong_detected_cloud / is_not_cloud,\n",
    "                     'TPR_clear': good_detected_clear / is_not_cloud,\n",
    "                     'FPR_clear': wrong_detected_clear / is_cloud}, index=[0])\n",
    "df"
   ]
  }
 ],
 "metadata": {
  "kernelspec": {
   "display_name": "satpy",
   "language": "python",
   "name": "satpy"
  },
  "language_info": {
   "codemirror_mode": {
    "name": "ipython",
    "version": 3
   },
   "file_extension": ".py",
   "mimetype": "text/x-python",
   "name": "python",
   "nbconvert_exporter": "python",
   "pygments_lexer": "ipython3",
   "version": "3.9.13"
  }
 },
 "nbformat": 4,
 "nbformat_minor": 4
}
